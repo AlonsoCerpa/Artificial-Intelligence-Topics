{
 "cells": [
  {
   "cell_type": "markdown",
   "metadata": {
    "heading_collapsed": true
   },
   "source": [
    "## For the seq2seq model"
   ]
  },
  {
   "cell_type": "code",
   "execution_count": 1,
   "metadata": {
    "hidden": true
   },
   "outputs": [
    {
     "name": "stdout",
     "output_type": "stream",
     "text": [
      "/home/alonso/Downloads/Chatbot-en-Espanol-master\n"
     ]
    }
   ],
   "source": [
    "cd .."
   ]
  },
  {
   "cell_type": "code",
   "execution_count": 2,
   "metadata": {
    "hidden": true
   },
   "outputs": [
    {
     "name": "stdout",
     "output_type": "stream",
     "text": [
      "Loading: data/OpenSubtitle_P3_500k_UNK\n",
      "Building encoder and decoder ...\n",
      "Models built and ready to go!\n",
      "Building optimizers ...\n"
     ]
    }
   ],
   "source": [
    "# import sys\n",
    "# sys.path.append(\"..\")\n",
    "from pre_processing import Voc\n",
    "from load_seq2seq import evaluateOneInput, evaluateCycle"
   ]
  },
  {
   "cell_type": "code",
   "execution_count": 3,
   "metadata": {
    "hidden": true
   },
   "outputs": [
    {
     "data": {
      "text/plain": [
       "'¿Qué es eso de que el juez no se puede pedir una visita?'"
      ]
     },
     "execution_count": 3,
     "metadata": {},
     "output_type": "execute_result"
    }
   ],
   "source": [
    "evaluateOneInput(\"hola\")"
   ]
  },
  {
   "cell_type": "code",
   "execution_count": 4,
   "metadata": {
    "hidden": true
   },
   "outputs": [
    {
     "name": "stdout",
     "output_type": "stream",
     "text": [
      "Enter q or quit to exit\n",
      "> q\n"
     ]
    }
   ],
   "source": [
    "evaluateCycle()"
   ]
  },
  {
   "cell_type": "markdown",
   "metadata": {},
   "source": [
    "## For the transformer model"
   ]
  },
  {
   "cell_type": "code",
   "execution_count": 5,
   "metadata": {},
   "outputs": [],
   "source": [
    "from pre_processing import Voc\n",
    "from load_transformer import from_checkpoint,evaluateOneInput, evaluateCycle"
   ]
  },
  {
   "cell_type": "code",
   "execution_count": null,
   "metadata": {},
   "outputs": [
    {
     "name": "stdout",
     "output_type": "stream",
     "text": [
      "Loading: /home/alonso/Downloads/Chatbot-en-Espanol-master/data/Transformer_500k_UNK\n",
      "Enter q or quit to exit\n",
      "> hola como estas\n",
      "Bot: Hola doc.\n",
      "> jajaja\n",
      "Bot: ¿Qué pasa?\n",
      "> cual es tu nombre tonto\n",
      "Bot: Se dice que nunca nadie amó tanto como él\n",
      "> cómo te llamas\n",
      "Bot: Gabriel.\n",
      "> y cuál es tu apellido\n",
      "Bot: El sr. flannagan.\n",
      "> Cuál es tu apellido?\n",
      "Bot: Ah... ése de ahí.\n"
     ]
    }
   ],
   "source": [
    "model = from_checkpoint(load_quant=True)\n",
    "evaluateCycle(model)"
   ]
  },
  {
   "cell_type": "code",
   "execution_count": null,
   "metadata": {},
   "outputs": [],
   "source": []
  }
 ],
 "metadata": {
  "kernelspec": {
   "display_name": "Python 3",
   "language": "python",
   "name": "python3"
  },
  "language_info": {
   "codemirror_mode": {
    "name": "ipython",
    "version": 3
   },
   "file_extension": ".py",
   "mimetype": "text/x-python",
   "name": "python",
   "nbconvert_exporter": "python",
   "pygments_lexer": "ipython3",
   "version": "3.7.3"
  }
 },
 "nbformat": 4,
 "nbformat_minor": 2
}
